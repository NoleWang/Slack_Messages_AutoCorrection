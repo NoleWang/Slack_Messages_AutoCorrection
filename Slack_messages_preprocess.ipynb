{
 "cells": [
  {
   "cell_type": "code",
   "execution_count": 1,
   "metadata": {},
   "outputs": [],
   "source": [
    "import xml.etree.ElementTree as ET\n",
    "import pandas as pd\n",
    "import tensorflow as tf"
   ]
  },
  {
   "cell_type": "code",
   "execution_count": 2,
   "metadata": {},
   "outputs": [],
   "source": [
    "import os\n",
    "os.environ[\"CUDA_DEVICE_ORDER\"]=\"PCI_BUS_ID\"   # see issue #152\n",
    "os.environ[\"CUDA_VISIBLE_DEVICES\"]=\"0\"\n",
    "\n",
    "tf.debugging.set_log_device_placement(True)"
   ]
  },
  {
   "cell_type": "code",
   "execution_count": 3,
   "metadata": {},
   "outputs": [
    {
     "name": "stdout",
     "output_type": "stream",
     "text": [
      "Num GPUs: 1\n"
     ]
    }
   ],
   "source": [
    "physical_devices = tf.config.list_physical_devices('GPU')\n",
    "print(\"Num GPUs:\", len(physical_devices))"
   ]
  },
  {
   "cell_type": "code",
   "execution_count": 7,
   "metadata": {},
   "outputs": [],
   "source": [
    "def xml_to_csv(in_path, out_path):\n",
    "    tree = ET.parse(in_path)\n",
    "    root = tree.getroot()\n",
    "    df_cols = [\"conversation_id\", \"time_stamp\", \"user\", \"text\"]\n",
    "    rows = []\n",
    "    \n",
    "    for node in root.findall('message'): \n",
    "        s_id = int(node.attrib.get(\"conversation_id\"))\n",
    "        s_time = node.find(\"ts\").text if node is not None else None\n",
    "        s_user = node.find(\"user\").text if node is not None else None\n",
    "        s_text = node.find(\"text\").text if node is not None else None\n",
    "    \n",
    "        rows.append({\"conversation_id\": s_id, \"time_stamp\": s_time, \n",
    "                 \"user\": s_user, \"text\": s_text})\n",
    "        \n",
    "    df = pd.DataFrame(rows, columns = df_cols)\n",
    "    print(df.sort_values(by=[\"conversation_id\",\"time_stamp\"]).head(5))\n",
    "    df.sort_values(by=[\"conversation_id\",\"time_stamp\"]).to_csv(out_path,index = None) "
   ]
  },
  {
   "cell_type": "code",
   "execution_count": 8,
   "metadata": {},
   "outputs": [],
   "source": [
    "in_path = '../../Python Scripts/Software-related-Slack-Chats-with-Disentangled-Conversations/data/pythondev/2019/merged-pythondev-help.xml'\n",
    "out_path = 'data/pythondev1.csv'"
   ]
  },
  {
   "cell_type": "code",
   "execution_count": 9,
   "metadata": {},
   "outputs": [
    {
     "name": "stdout",
     "output_type": "stream",
     "text": [
      "   conversation_id                  time_stamp      user  \\\n",
      "0                1  2018-12-31T00:08:47.720400    Kandra   \n",
      "1                2  2018-12-31T00:21:49.721700    Nevada   \n",
      "2                2  2018-12-31T04:55:39.724100  Sharolyn   \n",
      "3                2  2018-12-31T04:55:58.724500  Sharolyn   \n",
      "4                2  2018-12-31T04:56:22.724700  Sharolyn   \n",
      "\n",
      "                                                text  \n",
      "0                                                 Ok  \n",
      "1  Hello Guys i need help\\n\\nThe issue is: I want...  \n",
      "2  i have same  \"connection.ini\" files in differe...  \n",
      "3                         database.ini file is below  \n",
      "4  ```[postgresql]\\nhost=ap20-pgs-425.\\ndatabase=...  \n"
     ]
    }
   ],
   "source": [
    "xml_to_csv(in_path, out_path)"
   ]
  },
  {
   "cell_type": "code",
   "execution_count": 10,
   "metadata": {},
   "outputs": [
    {
     "name": "stdout",
     "output_type": "stream",
     "text": [
      "   conversation_id                  time_stamp     user  \\\n",
      "0                1  2017-12-31T00:00:55.000009   Monroe   \n",
      "1                1  2017-12-31T00:01:18.000021   Monroe   \n",
      "2                1  2017-12-31T00:02:05.000022   Monroe   \n",
      "3                2  2017-12-31T00:55:26.000040  Rebecca   \n",
      "4                3  2017-12-31T08:21:48.000049   Hobert   \n",
      "\n",
      "                                                text  \n",
      "0  Like Malinoff said, you can use other virtuale...  \n",
      "1  The command will change depending on the progr...  \n",
      "2                 (Off for the night, gn, good luck)  \n",
      "3                                             Thanks  \n",
      "4  In python list extend method,I saw that when w...  \n"
     ]
    }
   ],
   "source": [
    "in_path = '../../Python Scripts/Software-related-Slack-Chats-with-Disentangled-Conversations/data/pythondev/2018/merged-pythondev-help.xml'\n",
    "out_path = 'data/pythondev2.csv'\n",
    "xml_to_csv(in_path, out_path)"
   ]
  },
  {
   "cell_type": "code",
   "execution_count": 11,
   "metadata": {},
   "outputs": [
    {
     "name": "stdout",
     "output_type": "stream",
     "text": [
      "   conversation_id                  time_stamp    user  \\\n",
      "0                1  2017-06-16T10:51:34.290598  Melvin   \n",
      "1                1  2017-06-16T10:55:34.384740   Beula   \n",
      "2                1  2017-06-16T11:05:27.626658  Melvin   \n",
      "3                1  2017-06-16T11:12:26.790435  Johana   \n",
      "4                1  2017-06-16T11:12:47.798620  Johana   \n",
      "\n",
      "                                                text  \n",
      "0  Is it possible to switch between conda and vir...  \n",
      "1  What is it that \"requires virtualenv\", most th...  \n",
      "2  <@Beula> zappa …. at least if you don’t want t...  \n",
      "3  i don’t see why you couldn’t use a virtualenv ...  \n",
      "4                        what have you tried so far?  \n"
     ]
    }
   ],
   "source": [
    "in_path = '../../Python Scripts/Software-related-Slack-Chats-with-Disentangled-Conversations/data/pythondev/2017/merged-pythondev-help.xml'\n",
    "out_path = 'data/pythondev3.csv'\n",
    "xml_to_csv(in_path, out_path)"
   ]
  },
  {
   "cell_type": "code",
   "execution_count": null,
   "metadata": {
    "collapsed": true
   },
   "outputs": [],
   "source": []
  }
 ],
 "metadata": {
  "kernelspec": {
   "display_name": "Python 3",
   "language": "python",
   "name": "python3"
  },
  "language_info": {
   "codemirror_mode": {
    "name": "ipython",
    "version": 3
   },
   "file_extension": ".py",
   "mimetype": "text/x-python",
   "name": "python",
   "nbconvert_exporter": "python",
   "pygments_lexer": "ipython3",
   "version": "3.8.6"
  }
 },
 "nbformat": 4,
 "nbformat_minor": 2
}
